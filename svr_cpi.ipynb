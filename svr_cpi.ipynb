{
 "cells": [
  {
   "cell_type": "code",
   "execution_count": 1,
   "metadata": {},
   "outputs": [],
   "source": [
    "import pandas as pd\n",
    "import numpy as np\n",
    "from sklearn.svm import SVR\n",
    "from sklearn.preprocessing import MinMaxScaler\n",
    "import itertools"
   ]
  },
  {
   "cell_type": "code",
   "execution_count": 2,
   "metadata": {},
   "outputs": [],
   "source": [
    "import warnings\n",
    "warnings.filterwarnings(action='once')"
   ]
  },
  {
   "cell_type": "code",
   "execution_count": 3,
   "metadata": {},
   "outputs": [],
   "source": [
    "cpi_serie = pd.read_csv(r\"..\\Datos\\cpi_ec.csv\",index_col=0)"
   ]
  },
  {
   "cell_type": "code",
   "execution_count": 4,
   "metadata": {},
   "outputs": [
    {
     "data": {
      "text/plain": [
       "<AxesSubplot:>"
      ]
     },
     "execution_count": 4,
     "metadata": {},
     "output_type": "execute_result"
    },
    {
     "data": {
      "image/png": "[encoded data removed]",
      "text/plain": [
       "<Figure size 432x288 with 1 Axes>"
      ]
     },
     "metadata": {
      "needs_background": "light"
     },
     "output_type": "display_data"
    }
   ],
   "source": [
    "cpi_serie.columns = ['cpi']\n",
    "cpi_serie.plot()"
   ]
  },
  {
   "cell_type": "code",
   "execution_count": 5,
   "metadata": {},
   "outputs": [],
   "source": [
    "#Errors\n",
    "def forecast_accuracy(forecast, actual):\n",
    "    mape = np.mean(np.abs(list(np.array(forecast) - np.array(actual)))/np.abs(actual))  # MAPE\n",
    "    me = np.mean(list(np.array(forecast) - np.array(actual)))             # ME\n",
    "    mae = np.mean(np.abs(list(np.array(forecast) - np.array(actual))))    # MAE\n",
    "    mpe = np.mean((list(np.array(forecast) - np.array(actual)))/np.array(actual))   # MPE\n",
    "    rmse = np.mean(list(np.array(list(np.array(forecast) - np.array(actual)))**2))**.5  # RMSE\n",
    "    corr = np.corrcoef(forecast, actual)[0,1]   # corr\n",
    "    return({'mape':mape, 'me':me, 'mae': mae, \n",
    "            'mpe': mpe, 'rmse':rmse,'corr':corr})"
   ]
  },
  {
   "cell_type": "code",
   "execution_count": 6,
   "metadata": {},
   "outputs": [],
   "source": [
    "def grid_search(degree, C_l,coef, eps, gamma, error):\n",
    "    '''\n",
    "    Grid search process to find optimal solution within a list of given parameters\n",
    "    '''\n",
    "    best_e=float('inf')\n",
    "    test_y = cpi_serie[-tt-tv:-tv].cpi.tolist()\n",
    "\n",
    "    for d in degree:\n",
    "        print(d)\n",
    "        for c in C_l:\n",
    "            for co in coef:\n",
    "                for ep in eps:\n",
    "                    for g in gamma:\n",
    "                        try:\n",
    "                            model = SVR(kernel='poly', degree=d, C=c, cache_size=200, coef0=co, epsilon=ep, gamma=g,\n",
    "            max_iter=100000000, shrinking=True, tol=0.001, verbose=False)\n",
    "                            model.fit(x_train, y_train[:,0])\n",
    "\n",
    "                            y_test_pred = model.predict(x_test).reshape(-1,1)\n",
    "                            xtr = np.array([x_test[0]])\n",
    "                            y_test_pred = []\n",
    "                            for _ in range(len(test_y)):\n",
    "                                pred = model.predict(xtr).reshape(-1,1)\n",
    "                                xtr = np.array([np.concatenate((xtr[0],pred[0]))[1:]])\n",
    "                                y_test_pred.append(scaler.inverse_transform(pred)[0][0])\n",
    "                            # Scaling the predictions\n",
    "                            #y_test_pred = scaler.inverse_transform(y_test_pred)\n",
    "\n",
    "                            errors=forecast_accuracy(y_test_pred, test_y)\n",
    "                            e = errors[error]\n",
    "                            if e<best_e:\n",
    "                                opt_params = [d,c,co,ep,g]\n",
    "                                best_e=e \n",
    "                                print(opt_params,best_e)\n",
    "                        except:\n",
    "                            print(\"Error\")\n",
    "                    \n",
    "    print('BEST: ',opt_params, best_e)\n",
    "    return opt_params"
   ]
  },
  {
   "cell_type": "code",
   "execution_count": 7,
   "metadata": {},
   "outputs": [
    {
     "name": "stdout",
     "output_type": "stream",
     "text": [
      "(240, 13)\n",
      "(12, 13)\n",
      "(5, 13)\n"
     ]
    }
   ],
   "source": [
    "t =12\n",
    "tt = 12\n",
    "tv = 5\n",
    "\n",
    "train= cpi_serie[:-tt-tv] #Reduced\n",
    "test = cpi_serie[-tt-tv-t:-tv]\n",
    "validation = cpi_serie[-tv-t:]\n",
    "\n",
    "\n",
    "scaler = MinMaxScaler()\n",
    "\n",
    "test_data = scaler.fit_transform(test)\n",
    "train_data = scaler.transform(train)\n",
    "val_data = scaler.transform(validation)\n",
    "\n",
    "# Converting to numpy arrays\n",
    "timesteps =t+1\n",
    "\n",
    "train_data_timesteps=np.array([[j for j in train_data[i:i+timesteps]] for i in range(0,len(train_data)-timesteps+1)])[:,:,0]\n",
    "print(train_data_timesteps.shape)\n",
    "\n",
    "test_data_timesteps=np.array([[j for j in test_data[i:i+timesteps]] for i in range(0,len(test_data)-timesteps+1)])[:,:,0]\n",
    "print(test_data_timesteps.shape)\n",
    "\n",
    "val_data_timesteps=np.array([[j for j in val_data[i:i+timesteps]] for i in range(0,len(val_data)-timesteps+1)])[:,:,0]\n",
    "print(val_data_timesteps.shape)"
   ]
  },
  {
   "cell_type": "code",
   "execution_count": 8,
   "metadata": {},
   "outputs": [
    {
     "name": "stdout",
     "output_type": "stream",
     "text": [
      "(240, 12) (240, 1)\n",
      "(12, 12) (12, 1)\n",
      "(5, 12) (5, 1)\n"
     ]
    }
   ],
   "source": [
    "x_train, y_train = train_data_timesteps[:,:timesteps-1],train_data_timesteps[:,[timesteps-1]]\n",
    "x_test, y_test = test_data_timesteps[:,:timesteps-1],test_data_timesteps[:,[timesteps-1]]\n",
    "x_val, y_val = val_data_timesteps[:,:timesteps-1],val_data_timesteps[:,[timesteps-1]]\n",
    "\n",
    "print(x_train.shape, y_train.shape)\n",
    "print(x_test.shape, y_test.shape)\n",
    "print(x_val.shape, y_val.shape)"
   ]
  },
  {
   "cell_type": "code",
   "execution_count": null,
   "metadata": {},
   "outputs": [],
   "source": [
    "'''\n",
    "#Uncomment to find the best hyperparameters\n",
    "d1 = [2]\n",
    "c1 = [0.01,0.1,0.5, 1,3]\n",
    "coef1 = [5,10,15,20]\n",
    "eps1 = [0.001,0.01,0.1,1,2]\n",
    "gamma1 = ['scale',10,15,20]\n",
    "\n",
    "opt_params = grid_search(d1, c1,coef1, eps1, gamma1, 'mae')\n",
    "'''"
   ]
  },
  {
   "cell_type": "code",
   "execution_count": 9,
   "metadata": {},
   "outputs": [
    {
     "name": "stderr",
     "output_type": "stream",
     "text": [
      "C:\\Users\\MSI\\anaconda3\\envs\\pyscience\\lib\\site-packages\\sklearn\\svm\\_base.py:284: ConvergenceWarning: Solver terminated early (max_iter=100000000).  Consider pre-processing your data with StandardScaler or MinMaxScaler.\n",
      "  warnings.warn(\n"
     ]
    }
   ],
   "source": [
    "model = SVR(kernel='poly', degree=2, C=0.01, coef0=15, epsilon=0.001, gamma=15,\n",
    "                max_iter=100000000, cache_size=200, shrinking=True, tol=0.001, verbose=False)\n",
    "\n",
    "model.fit(x_train, y_train[:,0])\n",
    "\n",
    "y_train_pred = model.predict(x_train).reshape(-1,1)\n",
    "y_test_pred = model.predict(x_test).reshape(-1,1)\n",
    "y_val_pred = model.predict(x_val).reshape(-1,1)\n",
    "\n",
    "# Scaling the predictions\n",
    "y_train_pred = scaler.inverse_transform(y_train_pred)\n",
    "y_test_pred = scaler.inverse_transform(y_test_pred)\n",
    "y_val_pred = scaler.inverse_transform(y_val_pred)"
   ]
  },
  {
   "cell_type": "code",
   "execution_count": 10,
   "metadata": {},
   "outputs": [
    {
     "name": "stdout",
     "output_type": "stream",
     "text": [
      "{'mape': 0.003586431078300342, 'me': 0.03663349887052222, 'mae': 0.28690893274576096, 'mpe': 0.0005439082807832778, 'rmse': 0.3953880191452698, 'corr': 0.9997000237632122}\n",
      "{'mape': 0.003251946773049585, 'me': -0.32253205915885275, 'mae': 0.35369186600326924, 'mpe': -0.0029688045027686546, 'rmse': 0.44794696401173095, 'corr': 0.9708296592363687}\n",
      "{'mape': 0.0008049531008149738, 'me': 0.011170927268400988, 'mae': 0.08892463852427283, 'mpe': 0.00010164598566088805, 'rmse': 0.09709955885166068, 'corr': 0.8147400369884097}\n"
     ]
    }
   ],
   "source": [
    "x = forecast_accuracy([i[0] for i in y_train_pred], cpi_serie[t:-tt-tv].cpi.tolist())\n",
    "print(x)\n",
    "xt=forecast_accuracy([i[0] for i in y_test_pred], cpi_serie[-tt-tv:-tv].cpi.tolist())\n",
    "print(xt)\n",
    "xv=forecast_accuracy([i[0] for i in y_val_pred], cpi_serie[-tv:].cpi.tolist())\n",
    "print(xv)"
   ]
  },
  {
   "cell_type": "code",
   "execution_count": 11,
   "metadata": {},
   "outputs": [
    {
     "name": "stdout",
     "output_type": "stream",
     "text": [
      "{'mape': 0.01917156178936699, 'me': -2.0971725245433297, 'mae': 2.0971725245433297, 'mpe': -0.01917156178936699, 'rmse': 2.2754063532872473, 'corr': 0.9537267470790588}\n",
      "{'mape': 0.0009535001958785472, 'me': 0.06776165311490559, 'mae': 0.10539400226961107, 'mpe': 0.0006125039186521475, 'rmse': 0.11452763939129061, 'corr': 0.9305563654709247}\n"
     ]
    }
   ],
   "source": [
    "xtr = np.array([x_test[0]])\n",
    "y_test_pred = []\n",
    "for _ in range(tt):\n",
    "    pred = model.predict(xtr).reshape(-1,1)\n",
    "    xtr = np.array([np.concatenate((xtr[0],pred[0]))[1:]])\n",
    "    y_test_pred.append(scaler.inverse_transform(pred)[0][0])\n",
    "\n",
    "xvr = np.array([x_val[0]])\n",
    "y_val_pred = []\n",
    "for _ in range(tv):\n",
    "    pred = model.predict(xvr).reshape(-1,1)\n",
    "    xvr = np.array([np.concatenate((xvr[0],pred[0]))[1:]])\n",
    "    y_val_pred.append(scaler.inverse_transform(pred)[0][0])\n",
    "xt=forecast_accuracy(y_test_pred, cpi_serie[-tt-tv:-tv].cpi.tolist())\n",
    "print(xt)\n",
    "\n",
    "xv=forecast_accuracy(y_val_pred, cpi_serie[-tv:].cpi.tolist())\n",
    "print(xv)"
   ]
  },
  {
   "cell_type": "code",
   "execution_count": 12,
   "metadata": {},
   "outputs": [
    {
     "data": {
      "text/plain": [
       "[110.7023702966958,\n",
       " 110.6846321318866,\n",
       " 110.74515554600914,\n",
       " 110.75104702205113,\n",
       " 110.69687982916525,\n",
       " 110.75140699864026,\n",
       " 110.7752604801868,\n",
       " 110.77316204105622,\n",
       " 110.77437667646852]"
      ]
     },
     "execution_count": 12,
     "metadata": {},
     "output_type": "execute_result"
    }
   ],
   "source": [
    "x_final = np.array([x_val[-1]])\n",
    "y_final_pred = []\n",
    "for i in range(9):\n",
    "    pred = model.predict(x_final).reshape(-1,1)\n",
    "    x_final = np.array([np.concatenate((x_final[0],pred[0]))[1:]])\n",
    "    y_final_pred.append(scaler.inverse_transform(pred)[0][0])\n",
    "y_final_pred"
   ]
  },
  {
   "cell_type": "code",
   "execution_count": 13,
   "metadata": {},
   "outputs": [],
   "source": [
    "np.savetxt(r'..\\Datos\\svr_prediction.csv',np.array(y_final_pred), fmt = '%f', delimiter=\",\")   "
   ]
  },
  {
   "cell_type": "code",
   "execution_count": null,
   "metadata": {},
   "outputs": [],
   "source": []
  }
 ],
 "metadata": {
  "kernelspec": {
   "display_name": "Python 3 (ipykernel)",
   "language": "python",
   "name": "python3"
  },
  "language_info": {
   "codemirror_mode": {
    "name": "ipython",
    "version": 3
   },
   "file_extension": ".py",
   "mimetype": "text/x-python",
   "name": "python",
   "nbconvert_exporter": "python",
   "pygments_lexer": "ipython3",
   "version": "3.9.7"
  }
 },
 "nbformat": 4,
 "nbformat_minor": 4
}
